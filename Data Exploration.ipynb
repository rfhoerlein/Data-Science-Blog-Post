{
 "cells": [
  {
   "cell_type": "code",
   "execution_count": 64,
   "id": "dae30eeb",
   "metadata": {},
   "outputs": [],
   "source": [
    "# Business Understanding\n",
    "\n",
    "# Question I am trying to answer: \"What combination of skills, technologies, and experience levels are most strongly associated with high-salary developer roles in the US?\"\n",
    "\n",
    "# Questions blog post will answer:\n",
    "# 1) What are the most important features of the data set, what do they mean, and how do they drive the predicted outcome? \n",
    "# 2) What unusual, or creative, insights are you able to gather from the data set?\n",
    "# 3) How accurate is the model that you have trained to predict the data in the data set?\n",
    "# 4) What will happen in a creative, predictive, scenario using the model that you have trained?"
   ]
  },
  {
   "cell_type": "code",
   "execution_count": 65,
   "id": "699bcfa6",
   "metadata": {},
   "outputs": [],
   "source": [
    "#Data Understanding"
   ]
  },
  {
   "cell_type": "code",
   "execution_count": 66,
   "id": "f12d1509",
   "metadata": {},
   "outputs": [],
   "source": [
    "import pandas as pd\n",
    "import matplotlib as plt\n",
    "\n",
    "raw_data = pd.read_csv(r'C:\\Users\\rhoer\\OneDrive\\Desktop\\Udacity\\Data-Science-Blog-Post\\Developer Survey\\survey_results_public.zip', compression = \"zip\")\n"
   ]
  },
  {
   "cell_type": "code",
   "execution_count": 67,
   "id": "8a94ac8b",
   "metadata": {},
   "outputs": [
    {
     "name": "stdout",
     "output_type": "stream",
     "text": [
      "<class 'pandas.core.frame.DataFrame'>\n",
      "RangeIndex: 65437 entries, 0 to 65436\n",
      "Columns: 114 entries, ResponseId to JobSat\n",
      "dtypes: float64(13), int64(1), object(100)\n",
      "memory usage: 56.9+ MB\n"
     ]
    }
   ],
   "source": [
    "#Getting General Information\n",
    "raw_data.info()"
   ]
  },
  {
   "cell_type": "code",
   "execution_count": 68,
   "id": "1f91307f",
   "metadata": {},
   "outputs": [
    {
     "data": {
      "text/plain": [
       "ResponseId                 0\n",
       "MainBranch                 0\n",
       "Age                        0\n",
       "Employment                 0\n",
       "RemoteWork             10631\n",
       "                       ...  \n",
       "JobSatPoints_11        35992\n",
       "SurveyLength            9255\n",
       "SurveyEase              9199\n",
       "ConvertedCompYearly    42002\n",
       "JobSat                 36311\n",
       "Length: 114, dtype: int64"
      ]
     },
     "execution_count": 68,
     "metadata": {},
     "output_type": "execute_result"
    }
   ],
   "source": [
    "#Checking for nulls values\n",
    "raw_data.isna().sum()"
   ]
  },
  {
   "cell_type": "code",
   "execution_count": null,
   "id": "a08b5cec",
   "metadata": {},
   "outputs": [
    {
     "data": {
      "text/plain": [
       "ResponseId               int64\n",
       "MainBranch              object\n",
       "Age                     object\n",
       "Employment              object\n",
       "RemoteWork              object\n",
       "                        ...   \n",
       "JobSatPoints_11        float64\n",
       "SurveyLength            object\n",
       "SurveyEase              object\n",
       "ConvertedCompYearly    float64\n",
       "JobSat                 float64\n",
       "Length: 114, dtype: object"
      ]
     },
     "execution_count": 97,
     "metadata": {},
     "output_type": "execute_result"
    }
   ],
   "source": [
    "#Checking data types\n",
    "raw_data.dtypes"
   ]
  },
  {
   "cell_type": "code",
   "execution_count": 69,
   "id": "45b006d4",
   "metadata": {},
   "outputs": [
    {
     "data": {
      "text/html": [
       "<div>\n",
       "<style scoped>\n",
       "    .dataframe tbody tr th:only-of-type {\n",
       "        vertical-align: middle;\n",
       "    }\n",
       "\n",
       "    .dataframe tbody tr th {\n",
       "        vertical-align: top;\n",
       "    }\n",
       "\n",
       "    .dataframe thead th {\n",
       "        text-align: right;\n",
       "    }\n",
       "</style>\n",
       "<table border=\"1\" class=\"dataframe\">\n",
       "  <thead>\n",
       "    <tr style=\"text-align: right;\">\n",
       "      <th></th>\n",
       "      <th>ResponseId</th>\n",
       "      <th>MainBranch</th>\n",
       "      <th>Age</th>\n",
       "      <th>Employment</th>\n",
       "      <th>RemoteWork</th>\n",
       "      <th>Check</th>\n",
       "      <th>CodingActivities</th>\n",
       "      <th>EdLevel</th>\n",
       "      <th>LearnCode</th>\n",
       "      <th>LearnCodeOnline</th>\n",
       "      <th>...</th>\n",
       "      <th>JobSatPoints_6</th>\n",
       "      <th>JobSatPoints_7</th>\n",
       "      <th>JobSatPoints_8</th>\n",
       "      <th>JobSatPoints_9</th>\n",
       "      <th>JobSatPoints_10</th>\n",
       "      <th>JobSatPoints_11</th>\n",
       "      <th>SurveyLength</th>\n",
       "      <th>SurveyEase</th>\n",
       "      <th>ConvertedCompYearly</th>\n",
       "      <th>JobSat</th>\n",
       "    </tr>\n",
       "  </thead>\n",
       "  <tbody>\n",
       "    <tr>\n",
       "      <th>0</th>\n",
       "      <td>1</td>\n",
       "      <td>I am a developer by profession</td>\n",
       "      <td>Under 18 years old</td>\n",
       "      <td>Employed, full-time</td>\n",
       "      <td>Remote</td>\n",
       "      <td>Apples</td>\n",
       "      <td>Hobby</td>\n",
       "      <td>Primary/elementary school</td>\n",
       "      <td>Books / Physical media</td>\n",
       "      <td>NaN</td>\n",
       "      <td>...</td>\n",
       "      <td>NaN</td>\n",
       "      <td>NaN</td>\n",
       "      <td>NaN</td>\n",
       "      <td>NaN</td>\n",
       "      <td>NaN</td>\n",
       "      <td>NaN</td>\n",
       "      <td>NaN</td>\n",
       "      <td>NaN</td>\n",
       "      <td>NaN</td>\n",
       "      <td>NaN</td>\n",
       "    </tr>\n",
       "    <tr>\n",
       "      <th>1</th>\n",
       "      <td>2</td>\n",
       "      <td>I am a developer by profession</td>\n",
       "      <td>35-44 years old</td>\n",
       "      <td>Employed, full-time</td>\n",
       "      <td>Remote</td>\n",
       "      <td>Apples</td>\n",
       "      <td>Hobby;Contribute to open-source projects;Other...</td>\n",
       "      <td>Bachelor’s degree (B.A., B.S., B.Eng., etc.)</td>\n",
       "      <td>Books / Physical media;Colleague;On the job tr...</td>\n",
       "      <td>Technical documentation;Blogs;Books;Written Tu...</td>\n",
       "      <td>...</td>\n",
       "      <td>0.0</td>\n",
       "      <td>0.0</td>\n",
       "      <td>0.0</td>\n",
       "      <td>0.0</td>\n",
       "      <td>0.0</td>\n",
       "      <td>0.0</td>\n",
       "      <td>NaN</td>\n",
       "      <td>NaN</td>\n",
       "      <td>NaN</td>\n",
       "      <td>NaN</td>\n",
       "    </tr>\n",
       "    <tr>\n",
       "      <th>2</th>\n",
       "      <td>3</td>\n",
       "      <td>I am a developer by profession</td>\n",
       "      <td>45-54 years old</td>\n",
       "      <td>Employed, full-time</td>\n",
       "      <td>Remote</td>\n",
       "      <td>Apples</td>\n",
       "      <td>Hobby;Contribute to open-source projects;Other...</td>\n",
       "      <td>Master’s degree (M.A., M.S., M.Eng., MBA, etc.)</td>\n",
       "      <td>Books / Physical media;Colleague;On the job tr...</td>\n",
       "      <td>Technical documentation;Blogs;Books;Written Tu...</td>\n",
       "      <td>...</td>\n",
       "      <td>NaN</td>\n",
       "      <td>NaN</td>\n",
       "      <td>NaN</td>\n",
       "      <td>NaN</td>\n",
       "      <td>NaN</td>\n",
       "      <td>NaN</td>\n",
       "      <td>Appropriate in length</td>\n",
       "      <td>Easy</td>\n",
       "      <td>NaN</td>\n",
       "      <td>NaN</td>\n",
       "    </tr>\n",
       "    <tr>\n",
       "      <th>3</th>\n",
       "      <td>4</td>\n",
       "      <td>I am learning to code</td>\n",
       "      <td>18-24 years old</td>\n",
       "      <td>Student, full-time</td>\n",
       "      <td>NaN</td>\n",
       "      <td>Apples</td>\n",
       "      <td>NaN</td>\n",
       "      <td>Some college/university study without earning ...</td>\n",
       "      <td>Other online resources (e.g., videos, blogs, f...</td>\n",
       "      <td>Stack Overflow;How-to videos;Interactive tutorial</td>\n",
       "      <td>...</td>\n",
       "      <td>NaN</td>\n",
       "      <td>NaN</td>\n",
       "      <td>NaN</td>\n",
       "      <td>NaN</td>\n",
       "      <td>NaN</td>\n",
       "      <td>NaN</td>\n",
       "      <td>Too long</td>\n",
       "      <td>Easy</td>\n",
       "      <td>NaN</td>\n",
       "      <td>NaN</td>\n",
       "    </tr>\n",
       "    <tr>\n",
       "      <th>4</th>\n",
       "      <td>5</td>\n",
       "      <td>I am a developer by profession</td>\n",
       "      <td>18-24 years old</td>\n",
       "      <td>Student, full-time</td>\n",
       "      <td>NaN</td>\n",
       "      <td>Apples</td>\n",
       "      <td>NaN</td>\n",
       "      <td>Secondary school (e.g. American high school, G...</td>\n",
       "      <td>Other online resources (e.g., videos, blogs, f...</td>\n",
       "      <td>Technical documentation;Blogs;Written Tutorial...</td>\n",
       "      <td>...</td>\n",
       "      <td>NaN</td>\n",
       "      <td>NaN</td>\n",
       "      <td>NaN</td>\n",
       "      <td>NaN</td>\n",
       "      <td>NaN</td>\n",
       "      <td>NaN</td>\n",
       "      <td>Too short</td>\n",
       "      <td>Easy</td>\n",
       "      <td>NaN</td>\n",
       "      <td>NaN</td>\n",
       "    </tr>\n",
       "  </tbody>\n",
       "</table>\n",
       "<p>5 rows × 114 columns</p>\n",
       "</div>"
      ],
      "text/plain": [
       "   ResponseId                      MainBranch                 Age  \\\n",
       "0           1  I am a developer by profession  Under 18 years old   \n",
       "1           2  I am a developer by profession     35-44 years old   \n",
       "2           3  I am a developer by profession     45-54 years old   \n",
       "3           4           I am learning to code     18-24 years old   \n",
       "4           5  I am a developer by profession     18-24 years old   \n",
       "\n",
       "            Employment RemoteWork   Check  \\\n",
       "0  Employed, full-time     Remote  Apples   \n",
       "1  Employed, full-time     Remote  Apples   \n",
       "2  Employed, full-time     Remote  Apples   \n",
       "3   Student, full-time        NaN  Apples   \n",
       "4   Student, full-time        NaN  Apples   \n",
       "\n",
       "                                    CodingActivities  \\\n",
       "0                                              Hobby   \n",
       "1  Hobby;Contribute to open-source projects;Other...   \n",
       "2  Hobby;Contribute to open-source projects;Other...   \n",
       "3                                                NaN   \n",
       "4                                                NaN   \n",
       "\n",
       "                                             EdLevel  \\\n",
       "0                          Primary/elementary school   \n",
       "1       Bachelor’s degree (B.A., B.S., B.Eng., etc.)   \n",
       "2    Master’s degree (M.A., M.S., M.Eng., MBA, etc.)   \n",
       "3  Some college/university study without earning ...   \n",
       "4  Secondary school (e.g. American high school, G...   \n",
       "\n",
       "                                           LearnCode  \\\n",
       "0                             Books / Physical media   \n",
       "1  Books / Physical media;Colleague;On the job tr...   \n",
       "2  Books / Physical media;Colleague;On the job tr...   \n",
       "3  Other online resources (e.g., videos, blogs, f...   \n",
       "4  Other online resources (e.g., videos, blogs, f...   \n",
       "\n",
       "                                     LearnCodeOnline  ... JobSatPoints_6  \\\n",
       "0                                                NaN  ...            NaN   \n",
       "1  Technical documentation;Blogs;Books;Written Tu...  ...            0.0   \n",
       "2  Technical documentation;Blogs;Books;Written Tu...  ...            NaN   \n",
       "3  Stack Overflow;How-to videos;Interactive tutorial  ...            NaN   \n",
       "4  Technical documentation;Blogs;Written Tutorial...  ...            NaN   \n",
       "\n",
       "  JobSatPoints_7 JobSatPoints_8 JobSatPoints_9 JobSatPoints_10  \\\n",
       "0            NaN            NaN            NaN             NaN   \n",
       "1            0.0            0.0            0.0             0.0   \n",
       "2            NaN            NaN            NaN             NaN   \n",
       "3            NaN            NaN            NaN             NaN   \n",
       "4            NaN            NaN            NaN             NaN   \n",
       "\n",
       "  JobSatPoints_11           SurveyLength SurveyEase ConvertedCompYearly JobSat  \n",
       "0             NaN                    NaN        NaN                 NaN    NaN  \n",
       "1             0.0                    NaN        NaN                 NaN    NaN  \n",
       "2             NaN  Appropriate in length       Easy                 NaN    NaN  \n",
       "3             NaN               Too long       Easy                 NaN    NaN  \n",
       "4             NaN              Too short       Easy                 NaN    NaN  \n",
       "\n",
       "[5 rows x 114 columns]"
      ]
     },
     "execution_count": 69,
     "metadata": {},
     "output_type": "execute_result"
    }
   ],
   "source": [
    "raw_data.head()"
   ]
  },
  {
   "cell_type": "code",
   "execution_count": 70,
   "id": "c0e6df83",
   "metadata": {},
   "outputs": [],
   "source": [
    "#Data Exploration Findings\n",
    "    #- There are many null values that I will need to account for before modeling    \n",
    "    #- There are many columns with object data types that I will need to account for before modeling\n",
    "    #- There are some columns that have multiple choice answers that have a ';' delimiter\n",
    "    #- There are many rows that have null values since different sections of the survey are optional so many respondants partially reply to survey\n",
    "#Survey Exploration Findings\n",
    "    #- There were many people surveys that I should exclude based on the business question\n",
    "    #- There is a question where you answer \"Apples\" if you are paying attention. All rows withouts apples in that column should be deleted\n",
    "    #- There are many questions that are unlikely to have a strong relationship with business question (ex: section dedicated to Stack Overflow usage, survey length)"
   ]
  },
  {
   "cell_type": "code",
   "execution_count": 71,
   "id": "e4bbef41",
   "metadata": {},
   "outputs": [
    {
     "name": "stdout",
     "output_type": "stream",
     "text": [
      "<class 'pandas.core.frame.DataFrame'>\n",
      "Int64Index: 65437 entries, 0 to 65436\n",
      "Columns: 114 entries, ResponseId to JobSat\n",
      "dtypes: float64(13), int64(1), object(100)\n",
      "memory usage: 57.4+ MB\n"
     ]
    }
   ],
   "source": [
    "#Data Preparation\n",
    "\n",
    "#Removing all rows without apples in column \"Check\"\n",
    "data_apples = raw_data[raw_data['Check'] == \"Apples\"]\n",
    "data_apples.info()\n",
    "\n",
    "#No rows were removed. Likely these responses were filtered prior to publishing dataset"
   ]
  },
  {
   "cell_type": "code",
   "execution_count": 72,
   "id": "f42ccf6a",
   "metadata": {},
   "outputs": [
    {
     "name": "stdout",
     "output_type": "stream",
     "text": [
      "<class 'pandas.core.frame.DataFrame'>\n",
      "Int64Index: 47454 entries, 0 to 65435\n",
      "Columns: 114 entries, ResponseId to JobSat\n",
      "dtypes: float64(13), int64(1), object(100)\n",
      "memory usage: 41.6+ MB\n"
     ]
    }
   ],
   "source": [
    "#Removing all rows where respondent doesn't use coding professionally or are not currently working\n",
    "\n",
    "#list of responses that say they currently code in some capacity professionally\n",
    "pro_dev_responses = ['I am a developer by profession', 'I am not primarily a developer, but I write code sometimes as part of my work/studies']\n",
    "\n",
    "#list of employment status responses to exclude (there are some respondants who picked every option so exluding is better than including)\n",
    "pro_emp_responses = ['Not employed, but looking for work', 'Not employed, and not looking for work', 'Student, full-time', 'Retired', 'I prefer not to say', 'Student, part-time']\n",
    "\n",
    "#Filtering data by if they code professionally\n",
    "pro_data = data_apples.loc[data_apples['MainBranch'].isin(pro_dev_responses)]\n",
    "\n",
    "#Filtering data by employement status\n",
    "pro_data_employment = pro_data['Employment'].str.split(';', expand = True)\n",
    "pro_data_employment_keys = pro_data_employment.keys()\n",
    "pro_data_employment_mask = ~pro_data_employment[pro_data_employment_keys].isin(pro_emp_responses).any(axis = 1)\n",
    "pro_data = pro_data.loc[pro_data_employment_mask]\n",
    "\n",
    "pro_data.info()"
   ]
  },
  {
   "cell_type": "code",
   "execution_count": 73,
   "id": "3b92c146",
   "metadata": {},
   "outputs": [
    {
     "name": "stdout",
     "output_type": "stream",
     "text": [
      "I am a developer by profession                                                           43470\n",
      "I am not primarily a developer, but I write code sometimes as part of my work/studies     3984\n",
      "Name: MainBranch, dtype: int64\n"
     ]
    }
   ],
   "source": [
    "#Verifying that rows were filtered correctly\n",
    "print(pro_data['MainBranch'].value_counts())"
   ]
  },
  {
   "cell_type": "code",
   "execution_count": 74,
   "id": "4eb64394",
   "metadata": {},
   "outputs": [],
   "source": [
    "#Filtering to only respondants that answered the TeamsQuestions portion of the survey\n",
    "#This is important as there are a few questions that give insight into how long they have had their job, independence and organizational influence\n",
    "\n",
    "teams_filtered_data = pro_data.loc[pro_data['TBranch'] == 'Yes']"
   ]
  },
  {
   "cell_type": "code",
   "execution_count": 75,
   "id": "cfa3fa36",
   "metadata": {},
   "outputs": [
    {
     "name": "stderr",
     "output_type": "stream",
     "text": [
      "c:\\ProgramData\\Anaconda3\\lib\\site-packages\\pandas\\util\\_decorators.py:311: SettingWithCopyWarning: \n",
      "A value is trying to be set on a copy of a slice from a DataFrame\n",
      "\n",
      "See the caveats in the documentation: https://pandas.pydata.org/pandas-docs/stable/user_guide/indexing.html#returning-a-view-versus-a-copy\n",
      "  return func(*args, **kwargs)\n"
     ]
    }
   ],
   "source": [
    "#Filtering to only respondants that answered the salary question\n",
    "\n",
    "teams_filtered_data.dropna(subset= ['CompTotal'], inplace = True)"
   ]
  },
  {
   "cell_type": "code",
   "execution_count": 76,
   "id": "2fdc003c",
   "metadata": {},
   "outputs": [],
   "source": [
    "#Filtering to only respondants who reside in the US\n",
    "\n",
    "country_filtered_data = teams_filtered_data[teams_filtered_data['Country'] == \"United States of America\"]\n",
    "currency_filtered_data = country_filtered_data[country_filtered_data['Currency'] == \"USD\tUnited States dollar\"]"
   ]
  },
  {
   "cell_type": "code",
   "execution_count": 77,
   "id": "472b67f5",
   "metadata": {},
   "outputs": [],
   "source": [
    "#Function to check number of null values in each column\n",
    "\n",
    "def check_null (df):\n",
    "    nan_counts = df.isna().sum()\n",
    "    if nan_counts.sum() > 0:\n",
    "        for column in nan_counts.keys():\n",
    "            if df[column].isna().sum() > 0:\n",
    "                print(column + \" - \" + str(df[column].isna().sum()) )\n",
    "    else:\n",
    "        print('No null values in the dataframe')"
   ]
  },
  {
   "cell_type": "code",
   "execution_count": 78,
   "id": "3a7ceac2",
   "metadata": {},
   "outputs": [
    {
     "name": "stdout",
     "output_type": "stream",
     "text": [
      "CodingActivities - 1\n",
      "LearnCode - 2\n",
      "LearnCodeOnline - 714\n",
      "TechDoc - 1082\n",
      "YearsCode - 1\n",
      "YearsCodePro - 5\n",
      "DevType - 4\n",
      "OrgSize - 1\n",
      "PurchaseInfluence - 1\n",
      "BuyNewTool - 165\n",
      "BuildvsBuy - 219\n",
      "TechEndorse - 204\n",
      "LanguageHaveWorkedWith - 11\n",
      "LanguageWantToWorkWith - 231\n",
      "LanguageAdmired - 470\n",
      "DatabaseHaveWorkedWith - 587\n",
      "DatabaseWantToWorkWith - 1124\n",
      "DatabaseAdmired - 1400\n",
      "PlatformHaveWorkedWith - 922\n",
      "PlatformWantToWorkWith - 1560\n",
      "PlatformAdmired - 1767\n",
      "WebframeHaveWorkedWith - 1054\n",
      "WebframeWantToWorkWith - 1497\n",
      "WebframeAdmired - 1761\n",
      "EmbeddedHaveWorkedWith - 2857\n",
      "EmbeddedWantToWorkWith - 3141\n",
      "EmbeddedAdmired - 3200\n",
      "MiscTechHaveWorkedWith - 1467\n",
      "MiscTechWantToWorkWith - 1913\n",
      "MiscTechAdmired - 2169\n",
      "ToolsTechHaveWorkedWith - 330\n",
      "ToolsTechWantToWorkWith - 786\n",
      "ToolsTechAdmired - 935\n",
      "NEWCollabToolsHaveWorkedWith - 36\n",
      "NEWCollabToolsWantToWorkWith - 368\n",
      "NEWCollabToolsAdmired - 443\n",
      "OpSysPersonal use - 37\n",
      "OpSysProfessional use - 211\n",
      "OfficeStackAsyncHaveWorkedWith - 377\n",
      "OfficeStackAsyncWantToWorkWith - 1153\n",
      "OfficeStackAsyncAdmired - 1306\n",
      "OfficeStackSyncHaveWorkedWith - 49\n",
      "OfficeStackSyncWantToWorkWith - 694\n",
      "OfficeStackSyncAdmired - 867\n",
      "AISearchDevHaveWorkedWith - 1193\n",
      "AISearchDevWantToWorkWith - 1826\n",
      "AISearchDevAdmired - 1895\n",
      "SOVisitFreq - 9\n",
      "SOAccount - 10\n",
      "SOPartFreq - 873\n",
      "SOHow - 32\n",
      "SOComm - 10\n",
      "AISent - 1342\n",
      "AIBen - 1928\n",
      "AIAcc - 1913\n",
      "AIComplex - 1935\n",
      "AIToolCurrently Using - 1987\n",
      "AIToolInterested in Using - 2178\n",
      "AIToolNot interested in Using - 2589\n",
      "AINextMuch more integrated - 3611\n",
      "AINextNo change - 3569\n",
      "AINextMore integrated - 2684\n",
      "AINextLess integrated - 4413\n",
      "AINextMuch less integrated - 4464\n",
      "AIThreat - 1343\n",
      "AIEthics - 1420\n",
      "AIChallenges - 1579\n",
      "ICorPM - 9\n",
      "WorkExp - 17\n",
      "Knowledge_1 - 71\n",
      "Knowledge_2 - 101\n",
      "Knowledge_3 - 102\n",
      "Knowledge_4 - 115\n",
      "Knowledge_5 - 124\n",
      "Knowledge_6 - 126\n",
      "Knowledge_7 - 132\n",
      "Knowledge_8 - 133\n",
      "Knowledge_9 - 139\n",
      "Frequency_1 - 123\n",
      "Frequency_2 - 120\n",
      "Frequency_3 - 158\n",
      "TimeSearching - 100\n",
      "TimeAnswering - 95\n",
      "Frustration - 131\n",
      "ProfessionalTech - 180\n",
      "ProfessionalCloud - 130\n",
      "ProfessionalQuestion - 97\n",
      "Industry - 95\n",
      "JobSatPoints_1 - 73\n",
      "JobSatPoints_4 - 69\n",
      "JobSatPoints_5 - 68\n",
      "JobSatPoints_6 - 64\n",
      "JobSatPoints_7 - 63\n",
      "JobSatPoints_8 - 61\n",
      "JobSatPoints_9 - 62\n",
      "JobSatPoints_10 - 59\n",
      "JobSatPoints_11 - 62\n",
      "SurveyLength - 115\n",
      "SurveyEase - 98\n",
      "ConvertedCompYearly - 1389\n",
      "JobSat - 74\n"
     ]
    }
   ],
   "source": [
    "#Column count of NAN values\n",
    "\n",
    "check_null(currency_filtered_data)\n",
    "\n",
    "#nan_counts show that many select all that apply style question columns are responisble for NAN values."
   ]
  },
  {
   "cell_type": "code",
   "execution_count": 79,
   "id": "ebb30980",
   "metadata": {},
   "outputs": [],
   "source": [
    "#Removing columns unrelated to business question\n",
    "\n",
    "\n",
    "\n",
    "col_filtered_data = country_filtered_data.drop(columns = ['Check', 'SurveyLength', 'SurveyEase', 'AIChallenges', 'AIEthics', 'AIThreat', 'AINextMuch more integrated', 'AINextNo change',\n",
    "                                         'AINextMore integrated', 'AINextLess integrated', 'AINextMuch less integrated', 'BuyNewTool', 'BuildvsBuy', 'TechEndorse',\n",
    "                                          'LanguageWantToWorkWith', 'DatabaseWantToWorkWith', 'LanguageAdmired', 'DatabaseAdmired', 'PlatformWantToWorkWith',\n",
    "                                           'PlatformAdmired', 'WebframeWantToWorkWith', 'WebframeAdmired', 'EmbeddedWantToWorkWith', 'EmbeddedAdmired', 'MiscTechWantToWorkWith',\n",
    "                                             'MiscTechAdmired', 'ToolsTechWantToWorkWith', 'ToolsTechAdmired', 'NEWCollabToolsWantToWorkWith', 'NEWCollabToolsAdmired',\n",
    "                                               'OfficeStackAsyncWantToWorkWith', 'OfficeStackAsyncAdmired', 'OfficeStackSyncWantToWorkWith', 'OfficeStackSyncAdmired',\n",
    "                                                  'AISearchDevWantToWorkWith', 'AISearchDevAdmired', 'NEWSOSites', 'SOVisitFreq', 'SOAccount', 'SOPartFreq', 'SOHow', 'SOComm',\n",
    "                                                    'AISent', 'AIBen', 'AIAcc', 'AIComplex', 'AIToolInterested in Using', 'AIToolNot interested in Using', 'JobSatPoints_1', \n",
    "                                                      'JobSatPoints_4', 'JobSatPoints_5', 'JobSatPoints_6', 'JobSatPoints_7', 'JobSatPoints_8', 'JobSatPoints_9', 'JobSatPoints_10',\n",
    "                                                        'JobSatPoints_11', 'JobSat', 'ConvertedCompYearly', \"TBranch\", 'Knowledge_1', 'Knowledge_2', 'Knowledge_3', 'Knowledge_4', 'Knowledge_5',\n",
    "                                                            'Knowledge_6', 'Knowledge_7', 'Knowledge_8', 'Knowledge_9', 'Frequency_1', 'Frequency_2', 'Frequency_3', 'TimeSearching', 'TimeAnswering',\n",
    "                                                               'Frustration', 'ProfessionalTech', 'ProfessionalCloud', 'ProfessionalQuestion', 'OrgSize', 'PurchaseInfluence', 'Country', 'Currency'     ])\n",
    "\n",
    "#Notes on column removal justification:\n",
    "\n",
    "#Check - mark Apples if you are paying attention. This has already been used for filtering so this is no longer required\n",
    "#SurveyLength - question regarding quality of survey\n",
    "#SurveyEase - question regarding quality of survey\n",
    "#AIChallenges - question about opinions on AI and is unrrelated to professional coding experience\n",
    "#AIEthics - question about opinions on AI and is unrrelated to professional coding experience\n",
    "#AIThreat - question about opinions on AI and is unrrelated to professional coding experience\n",
    "#AINextMuch more integrated - question about opinions on AI usage in the future and is unrrelated to current professional coding\n",
    "#AINextNo change - question about opinions on AI usage in the future and is unrrelated to current professional coding\n",
    "#AINextMore integrated - question about opinions on AI usage in the future and is unrrelated to current professional coding\n",
    "#AINextLess integrated - question about opinions on AI usage in the future and is unrrelated to current professional coding\n",
    "#AINextMuch less integrated - question about opinions on AI usage in the future and is unrrelated to current professional coding\n",
    "#BuyNewTool - question is about new software preferences and is unrrelated to professional coding\n",
    "#BuildvsBuy - question is about new software preferences and is unrrelated to professional coding\n",
    "#TechEndorse - question is about new software preferences and is unrrelated to professional coding\n",
    "#LanguageWantToWorkWith - question is not about professional coding experience\n",
    "#DatabaseWantToWorkWith - question is not about professional coding experience\n",
    "#LanguageAdmired - question is not about professional coding experience\n",
    "#DatabaseAdmired - question is not about professional coding experience \n",
    "#PlatformWantToWorkWith - question is not about professional coding experience \n",
    "#PlatformAdmired - question is not about professional coding experience \n",
    "#WebframeWantToWorkWith - question is not about professional coding experience \n",
    "#WebframeAdmired - question is not about professional coding experience  \n",
    "#EmbeddedWantToWorkWith - question is not about professional coding experience  \n",
    "#EmbeddedAdmired - question is not about professional coding experience  \n",
    "#MiscTechWantToWorkWith - question is not about professional coding experience\n",
    "#MiscTechAdmired - question is not about professional coding experience\n",
    "#ToolsTechWantToWorkWith - question is not about professional coding experience\n",
    "#ToolsTechAdmired - question is not about professional coding experience\n",
    "#NEWCollabToolsWantToWorkWith - question is not about professional coding experience\n",
    "#NEWCollabToolsAdmired - question is not about professional coding experience\n",
    "#OfficeStackAsyncWantToWorkWith - question is not about professional coding experience\n",
    "#OfficeStackAsyncAdmired - question is not about professional coding experience\n",
    "#OfficeStackSyncWantToWorkWith - question is not about professional coding experience\n",
    "#OfficeStackSyncAdmired - question is not about professional coding experience\n",
    "#AISearchDevWantToWorkWith - question is not about professional coding experience\n",
    "#AISearchDevAdmired - question is not about professional coding experience\n",
    "#NEWSOSites - question is about Stack Overflow and not about professional coding experience\n",
    "#SOVisitFreq - question is about Stack Overflow and not about professional coding experience\n",
    "#SOAccount - question is about Stack Overflow and not about professional coding experience\n",
    "#SOPartFreq - question is about Stack Overflow and not about professional coding experience\n",
    "#SOHow - question is about Stack Overflow and not about professional coding experience\n",
    "#SOComm - question is about Stack Overflow and not about professional coding experience\n",
    "#AISent - question about opinions on AI and is unrrelated to professional coding experience\n",
    "#AIBen - question about opinions on AI and is unrrelated to professional coding experience\n",
    "#AIAcc - question about opinions on AI and is unrrelated to professional coding experience\n",
    "#AIComplex - question about opinions on AI and is unrrelated to professional coding experience\n",
    "#AIToolInterested in Using - question about opinions on AI and is unrrelated to professional coding experience\n",
    "#AIToolNot interested in Using - question about opinions on AI and is unrrelated to professional coding experience\n",
    "#JobSatPoints 1,4,5,6,7,8,9,10,11 - question is about job satisfaction and is unrrelated to professional coding experience\n",
    "#Job Sat - question is about job satisfaction and is unrrelated to professional coding experience\n",
    "#ConvertedCompYearly - Column seems unreliable as there are some rows with comp data input but a null converted comp yearly. \n",
    "#TBranch - Column already used for filtering\n",
    "#Knowledge 1,2,3,4,5,6,7,8,9 - Question applies to internal processes and tools and are not indicative of skills or background\n",
    "#Frequency 1,2,3 - Question applies to internal processes and are not indicative of skills or background\n",
    "#TimeSearching - Question does show skill level, but is too broad as to not give actionable insights\n",
    "#TimeAnswering - Question applies to internal processes and are not indicative of skills or background\n",
    "#Frustration - Question applies to internal processes and are not indicative of skills or background\n",
    "#ProfessionalTech - Question applies to internal processes and are not indicative of skills or background\n",
    "#ProfessionalCloud - Question applies to internal processes and are not indicative of skills or background\n",
    "#ProfessionalQuestion - Question applies to internal processes and are not indicative of skills or background\n",
    "#OrgSize - Organization size is not under control of respondant \n",
    "#PurchaseInfluence - Amount of purchasing influence an individual has could be based on skill/reputation, but is not actionable and could be affected by variables out of respondant control\n",
    "#Country - This has already been used for filtering so this is no longer required\n",
    "#Currency - This has already been used for filtering so this is no longer required\n"
   ]
  },
  {
   "cell_type": "code",
   "execution_count": 80,
   "id": "fe3132ac",
   "metadata": {},
   "outputs": [],
   "source": [
    "#Function for breaking up select all that apply questions\n",
    "\n",
    "def select_all(column, select_all_df):\n",
    "    df_expanded = select_all_df[column].str.get_dummies(sep = ';')\n",
    "    df_expanded = df_expanded.add_prefix(f\"{column}__\")\n",
    "    select_all_df = select_all_df.join(df_expanded)\n",
    "    select_all_df.drop(columns=[column], inplace=True)\n",
    "    return select_all_df"
   ]
  },
  {
   "cell_type": "code",
   "execution_count": 81,
   "id": "601e52a3",
   "metadata": {},
   "outputs": [],
   "source": [
    "#Breaking up select all that apply questions\n",
    "\n",
    "select_all_data = col_filtered_data\n",
    "select_all_columns = ['Employment', 'CodingActivities', 'LearnCode', 'LearnCodeOnline', 'LanguageHaveWorkedWith', 'DatabaseHaveWorkedWith', 'PlatformHaveWorkedWith', \n",
    "           'WebframeHaveWorkedWith', 'EmbeddedHaveWorkedWith', 'MiscTechHaveWorkedWith', 'ToolsTechHaveWorkedWith', 'NEWCollabToolsHaveWorkedWith', 'OpSysPersonal use',\n",
    "            'OpSysProfessional use', 'OfficeStackAsyncHaveWorkedWith', 'OfficeStackSyncHaveWorkedWith', 'AISearchDevHaveWorkedWith', 'AIToolCurrently Using', 'TechDoc' ]\n",
    "\n",
    "for column in select_all_columns:\n",
    "    select_all_data = select_all(column, select_all_data)\n",
    "\n",
    "\n"
   ]
  },
  {
   "cell_type": "code",
   "execution_count": 82,
   "id": "4bb17bc1",
   "metadata": {},
   "outputs": [
    {
     "name": "stdout",
     "output_type": "stream",
     "text": [
      "YearsCode - 1\n",
      "YearsCodePro - 5\n",
      "DevType - 4\n",
      "ICorPM - 9\n",
      "WorkExp - 17\n",
      "Industry - 95\n"
     ]
    }
   ],
   "source": [
    "#Null Value Check following select all cleanup\n",
    "check_null(select_all_data)\n"
   ]
  },
  {
   "cell_type": "code",
   "execution_count": 83,
   "id": "63a25233",
   "metadata": {},
   "outputs": [],
   "source": [
    "#Removing final Null Values\n",
    "remove_na_data = select_all_data\n",
    "\n",
    "#Checking if any rows have many null values (bad respondant)\n",
    "nan_per_row = remove_na_data.isnull().sum(axis= 1)\n",
    "max_nan_cnt = nan_per_row.max()\n",
    "\n",
    "#max_nan_cnt is relatively low (4) so rows will be kept as other values are useful to the model\n",
    "#Replacing null values with \"Missing\" due to low total count of null in column\n",
    "\n",
    "remove_na_data['YearsCode'] = remove_na_data['YearsCode'].fillna('Missing')\n",
    "remove_na_data['YearsCodePro'] = remove_na_data['YearsCodePro'].fillna('Missing')\n",
    "remove_na_data['DevType'] = remove_na_data['DevType'].fillna('Missing')\n",
    "remove_na_data['ICorPM'] = remove_na_data['ICorPM'].fillna('Missing')\n",
    "remove_na_data['WorkExp'] = remove_na_data['WorkExp'].fillna('Missing')\n",
    "remove_na_data['Industry'] = remove_na_data['Industry'].fillna('Missing')\n"
   ]
  },
  {
   "cell_type": "code",
   "execution_count": 84,
   "id": "380cf837",
   "metadata": {},
   "outputs": [
    {
     "name": "stdout",
     "output_type": "stream",
     "text": [
      "No null values in the dataframe\n"
     ]
    }
   ],
   "source": [
    "#Final Null Check\n",
    "\n",
    "check_null(remove_na_data)\n"
   ]
  },
  {
   "cell_type": "code",
   "execution_count": 94,
   "id": "0a32544f",
   "metadata": {},
   "outputs": [
    {
     "name": "stdout",
     "output_type": "stream",
     "text": [
      "Data description before outlier removal\n",
      "count    4.495000e+03\n",
      "mean     2.471886e+11\n",
      "std      1.657268e+13\n",
      "min      0.000000e+00\n",
      "25%      1.100000e+05\n",
      "50%      1.500000e+05\n",
      "75%      2.000000e+05\n",
      "max      1.111111e+15\n",
      "Name: CompTotal, dtype: float64\n",
      "150000.0\n",
      "Data description after outlier removal\n",
      "count      4413.000000\n",
      "mean     164086.654883\n",
      "std       80582.989163\n",
      "min       36000.000000\n",
      "25%      110000.000000\n",
      "50%      150000.000000\n",
      "75%      200000.000000\n",
      "max      650000.000000\n",
      "Name: CompTotal, dtype: float64\n"
     ]
    }
   ],
   "source": [
    "#Removing Salary Outliers\n",
    "#Outliers need to be removed from this dataset as there are some cases of respondants filling in values that are unrealistically low (ex. $1)\n",
    "salary_outlier_data = remove_na_data\n",
    "\n",
    "print('Data description before outlier removal')\n",
    "print(salary_outlier_data['CompTotal'].describe())\n",
    "print(salary_outlier_data['CompTotal'].median())\n",
    "\n",
    "#IQR based outlier removal is used\n",
    "\n",
    "q_low = salary_outlier_data['CompTotal'].quantile(0.01)\n",
    "q_high = salary_outlier_data['CompTotal'].quantile(0.99)\n",
    "cleaned_data = salary_outlier_data[(salary_outlier_data['CompTotal'] >= q_low) & (salary_outlier_data['CompTotal'] <= q_high)]\n",
    "\n",
    "print('Data description after outlier removal')\n",
    "print(cleaned_data['CompTotal'].describe())\n"
   ]
  },
  {
   "cell_type": "code",
   "execution_count": 102,
   "id": "7f44a48a",
   "metadata": {},
   "outputs": [],
   "source": [
    "#Checking and correcting data types\n",
    "\n",
    "cleaned_data.dtypes\n",
    "\n",
    "#Object data types remain. removing with get_dummies\n",
    "\n",
    "object_columns = cleaned_data.select_dtypes(include=['object']).columns.tolist()\n",
    "model_data = pd.get_dummies(cleaned_data, columns = object_columns)"
   ]
  },
  {
   "cell_type": "code",
   "execution_count": null,
   "id": "cf33f5ee",
   "metadata": {},
   "outputs": [],
   "source": [
    "#Modeling\n",
    "\n",
    "#Temporary notation\n"
   ]
  },
  {
   "cell_type": "code",
   "execution_count": 87,
   "id": "5de5bdba",
   "metadata": {},
   "outputs": [],
   "source": [
    "#Evaluation"
   ]
  }
 ],
 "metadata": {
  "kernelspec": {
   "display_name": "base",
   "language": "python",
   "name": "python3"
  },
  "language_info": {
   "codemirror_mode": {
    "name": "ipython",
    "version": 3
   },
   "file_extension": ".py",
   "mimetype": "text/x-python",
   "name": "python",
   "nbconvert_exporter": "python",
   "pygments_lexer": "ipython3",
   "version": "3.9.7"
  }
 },
 "nbformat": 4,
 "nbformat_minor": 5
}
