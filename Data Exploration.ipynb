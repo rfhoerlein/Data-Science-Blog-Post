{
 "cells": [
  {
   "cell_type": "code",
   "execution_count": 4,
   "id": "467e9bde",
   "metadata": {},
   "outputs": [],
   "source": [
    "import pandas as pd"
   ]
  },
  {
   "cell_type": "code",
   "execution_count": null,
   "id": "dae30eeb",
   "metadata": {},
   "outputs": [],
   "source": [
    "# Business Understanding\n",
    "\n",
    "# The goal is ....."
   ]
  },
  {
   "cell_type": "code",
   "execution_count": null,
   "id": "699bcfa6",
   "metadata": {},
   "outputs": [],
   "source": [
    "#Data Understanding"
   ]
  },
  {
   "cell_type": "code",
   "execution_count": 6,
   "id": "f12d1509",
   "metadata": {},
   "outputs": [
    {
     "name": "stdout",
     "output_type": "stream",
     "text": [
      "<class 'pandas.core.frame.DataFrame'>\n",
      "RangeIndex: 65437 entries, 0 to 65436\n",
      "Columns: 114 entries, ResponseId to JobSat\n",
      "dtypes: float64(13), int64(1), object(100)\n",
      "memory usage: 56.9+ MB\n"
     ]
    }
   ],
   "source": [
    "raw_data = pd.read_csv(r'C:\\Users\\rhoer\\OneDrive\\Desktop\\Udacity\\Data-Science-Blog-Post\\Developer Survey\\survey_results_public.zip', compression = \"zip\")\n",
    "raw_data.info()"
   ]
  },
  {
   "cell_type": "code",
   "execution_count": null,
   "id": "e4bbef41",
   "metadata": {},
   "outputs": [],
   "source": [
    "#Data Preparation"
   ]
  },
  {
   "cell_type": "code",
   "execution_count": null,
   "id": "cf33f5ee",
   "metadata": {},
   "outputs": [],
   "source": [
    "#Modeling"
   ]
  },
  {
   "cell_type": "code",
   "execution_count": null,
   "id": "5de5bdba",
   "metadata": {},
   "outputs": [],
   "source": [
    "#Evaluation"
   ]
  }
 ],
 "metadata": {
  "kernelspec": {
   "display_name": "base",
   "language": "python",
   "name": "python3"
  },
  "language_info": {
   "codemirror_mode": {
    "name": "ipython",
    "version": 3
   },
   "file_extension": ".py",
   "mimetype": "text/x-python",
   "name": "python",
   "nbconvert_exporter": "python",
   "pygments_lexer": "ipython3",
   "version": "3.9.7"
  }
 },
 "nbformat": 4,
 "nbformat_minor": 5
}
